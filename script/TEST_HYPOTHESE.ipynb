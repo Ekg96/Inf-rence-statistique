{
 "cells": [
  {
   "cell_type": "markdown",
   "id": "4d7e2f47",
   "metadata": {},
   "source": [
    "Le test d’hypothèse est une méthode statistique utilisée pour faire des inférences ou prendre des décisions sur une population en fonction des données de l’échantillon. Cela commence par une hypothèse nulle (H0), qui représente une position par défaut ou aucun effet, et une hypothèse alternative (H1 ou Ha), qui représente ce que nous cherchons à prouver ou à nous attendre à trouver. Le processus consiste à utiliser des données d’échantillon pour déterminer s’il faut rejeter l’hypothèse nulle en faveur de l’hypothèse alternative, en fonction de la probabilité d’observer les données d’échantillon sous l’hypothèse nulle. Donc, si vous voulez apprendre à effectuer des tests d’hypothèse, cet article est pour vous. Dans cet article, je vais vous expliquer la tâche de test d’hypothèses à l’aide de Python."
   ]
  },
  {
   "cell_type": "markdown",
   "id": "74d29865",
   "metadata": {},
   "source": [
    "# Test d’hypothèse : processus que nous pouvons suivre"
   ]
  },
  {
   "cell_type": "markdown",
   "id": "c7eb4dff",
   "metadata": {},
   "source": [
    "Ainsi, le test d’hypothèse est un processus fondamental de la science des données pour prendre des décisions et des inférences basées sur des données sur les populations en fonction des données d’échantillonnage. Vous trouverez ci-dessous le processus que nous pouvons suivre pour la tâche de test d’hypothèse :\n",
    "\n",
    "Rassemblez les données nécessaires au test d’hypothèse.\n",
    "Définissez l’hypothèse nulle (H0) et l’hypothèse alternative (H1 ou Ha).\n",
    "Choisissez le niveau de signification (α), qui est la probabilité de rejeter l’hypothèse nulle lorsqu’elle est vraie.\n",
    "Sélectionnez les tests statistiques appropriés. Les exemples incluent les tests t pour comparer les moyennes, les tests du chi carré pour les données catégorielles et l’ANOVA pour comparer les moyennes de plus de deux groupes.\n",
    "Effectuez le test statistique choisi sur vos données.\n",
    "Déterminez la valeur p et interprétez les résultats de vos tests statistiques."
   ]
  },
  {
   "cell_type": "markdown",
   "id": "7389bc18",
   "metadata": {},
   "source": [
    "# Test d’hypothèses à l’aide de Python"
   ]
  },
  {
   "cell_type": "code",
   "execution_count": 1,
   "id": "78e50661",
   "metadata": {},
   "outputs": [],
   "source": [
    "import pandas as pd\n",
    "from scipy.stats import ttest_ind"
   ]
  },
  {
   "cell_type": "code",
   "execution_count": 2,
   "id": "f88c5582",
   "metadata": {},
   "outputs": [
    {
     "name": "stdout",
     "output_type": "stream",
     "text": [
      "         Theme  Click Through Rate  Conversion Rate  Bounce Rate  \\\n",
      "0  Light Theme            0.054920         0.282367     0.405085   \n",
      "1  Light Theme            0.113932         0.032973     0.732759   \n",
      "2   Dark Theme            0.323352         0.178763     0.296543   \n",
      "3  Light Theme            0.485836         0.325225     0.245001   \n",
      "4  Light Theme            0.034783         0.196766     0.765100   \n",
      "\n",
      "   Scroll_Depth  Age   Location  Session_Duration Purchases Added_to_Cart  \n",
      "0     72.489458   25    Chennai              1535        No           Yes  \n",
      "1     61.858568   19       Pune               303        No           Yes  \n",
      "2     45.737376   47    Chennai               563       Yes           Yes  \n",
      "3     76.305298   58       Pune               385       Yes            No  \n",
      "4     48.927407   25  New Delhi              1437        No            No  \n"
     ]
    }
   ],
   "source": [
    "df = pd.read_csv(\"website_ab_test.csv\")\n",
    "\n",
    "print(df.head())"
   ]
  },
  {
   "cell_type": "markdown",
   "id": "7f6dcc87",
   "metadata": {},
   "source": [
    "Ainsi, le jeu de données est basé sur les performances de deux thèmes sur un site web. Notre tâche consiste à trouver quel thème fonctionne le mieux à l’aide de tests d’hypothèses. Passons en revue le résumé de l’ensemble de données, y compris le nombre d’enregistrements, la présence de valeurs manquantes et les statistiques de base pour les colonnes numériques :"
   ]
  },
  {
   "cell_type": "code",
   "execution_count": 3,
   "id": "5637166f",
   "metadata": {},
   "outputs": [
    {
     "data": {
      "text/plain": [
       "{'Number of Records': 1000,\n",
       " 'Number of Columns': 10,\n",
       " 'Missing Values': Theme                 0\n",
       " Click Through Rate    0\n",
       " Conversion Rate       0\n",
       " Bounce Rate           0\n",
       " Scroll_Depth          0\n",
       " Age                   0\n",
       " Location              0\n",
       " Session_Duration      0\n",
       " Purchases             0\n",
       " Added_to_Cart         0\n",
       " dtype: int64,\n",
       " 'Numerical Columns Summary':        Click Through Rate  Conversion Rate  Bounce Rate  Scroll_Depth  \\\n",
       " count         1000.000000      1000.000000  1000.000000   1000.000000   \n",
       " mean             0.256048         0.253312     0.505758     50.319494   \n",
       " std              0.139265         0.139092     0.172195     16.895269   \n",
       " min              0.010767         0.010881     0.200720     20.011738   \n",
       " 25%              0.140794         0.131564     0.353609     35.655167   \n",
       " 50%              0.253715         0.252823     0.514049     51.130712   \n",
       " 75%              0.370674         0.373040     0.648557     64.666258   \n",
       " max              0.499989         0.498916     0.799658     79.997108   \n",
       " \n",
       "                Age  Session_Duration  \n",
       " count  1000.000000       1000.000000  \n",
       " mean     41.528000        924.999000  \n",
       " std      14.114334        508.231723  \n",
       " min      18.000000         38.000000  \n",
       " 25%      29.000000        466.500000  \n",
       " 50%      42.000000        931.000000  \n",
       " 75%      54.000000       1375.250000  \n",
       " max      65.000000       1797.000000  }"
      ]
     },
     "execution_count": 3,
     "metadata": {},
     "output_type": "execute_result"
    }
   ],
   "source": [
    "# dataset summary\n",
    "summary = {\n",
    "    'Number of Records': df.shape[0],\n",
    "    'Number of Columns': df.shape[1],\n",
    "    'Missing Values': df.isnull().sum(),\n",
    "    'Numerical Columns Summary': df.describe()\n",
    "}\n",
    "\n",
    "summary"
   ]
  },
  {
   "cell_type": "markdown",
   "id": "e850bfa1",
   "metadata": {},
   "source": [
    "Le jeu de données contient 1 000 enregistrements répartis sur 10 colonnes, sans valeurs manquantes. Voici un bref résumé des colonnes numériques :\n",
    "\n",
    "Taux de clics : Varie d’environ 0,01 à 0,50 avec une moyenne d’environ 0,26.\n",
    "Taux de conversion : Varie également d’environ 0,01 à 0,50 avec une moyenne proche du taux de clics, environ 0,25.\n",
    "Taux de rebond : Varie entre 0,20 et 0,80, avec une moyenne d’environ 0,51.\n",
    "Profondeur de défilement : affiche un écart de 20,01 à près de 80, avec une moyenne de 50,32.\n",
    "Âge : L’âge des utilisateurs varie de 18 à 65 ans, avec un âge moyen d’environ 41,5 ans.\n",
    "Durée de la session : Cela varie considérablement de 38 secondes à près de 1800 secondes (30 minutes), avec une durée moyenne de session d’environ 925 secondes (environ 15 minutes).\n",
    "\n",
    "\n",
    "Passons maintenant à la comparaison des performances des deux thèmes en fonction des mesures fournies. Nous examinerons le taux de clics moyen, le taux de conversion, le taux de rebond et d’autres mesures pertinentes pour chaque thème. Ensuite, nous pouvons effectuer des tests d’hypothèses pour identifier s’il existe une différence statistiquement significative entre les thèmes :"
   ]
  },
  {
   "cell_type": "code",
   "execution_count": 4,
   "id": "469e48ed",
   "metadata": {},
   "outputs": [
    {
     "name": "stdout",
     "output_type": "stream",
     "text": [
      "             Click Through Rate  Conversion Rate  Bounce Rate  Scroll_Depth  \\\n",
      "Theme                                                                         \n",
      "Light Theme            0.247109         0.255459     0.499035     50.735232   \n",
      "Dark Theme             0.264501         0.251282     0.512115     49.926404   \n",
      "\n",
      "                   Age  Session_Duration  \n",
      "Theme                                     \n",
      "Light Theme  41.734568        930.833333  \n",
      "Dark Theme   41.332685        919.482490  \n"
     ]
    }
   ],
   "source": [
    "# grouping data by theme and calculating mean values for the metrics\n",
    "theme_performance = df.groupby('Theme').mean()\n",
    "\n",
    "# sorting the data by conversion rate for a better comparison\n",
    "theme_performance_sorted = theme_performance.sort_values(by='Conversion Rate', ascending=False)\n",
    "\n",
    "print(theme_performance_sorted)"
   ]
  },
  {
   "cell_type": "markdown",
   "id": "d5c47004",
   "metadata": {},
   "source": [
    "La comparaison entre le thème clair et le thème sombre sur les mesures de performances moyennes révèle les informations suivantes :\n",
    "\n",
    "Taux de clics (CTR) : Le thème sombre a un CTR moyen légèrement plus élevé (0,2645) par rapport au thème clair (0,2471).\n",
    "Taux de conversion : Le thème clair est en tête avec un taux de conversion moyen légèrement plus élevé (0,2555) que le thème sombre (0,2513).\n",
    "Taux de rebond : Le taux de rebond est légèrement plus élevé pour le thème sombre (0,5121) que pour le thème clair (0,4990).\n",
    "Profondeur de défilement : Les utilisateurs du thème clair défilent légèrement plus loin en moyenne (50,74 %) par rapport à ceux du thème sombre (49,93 %).\n",
    "Âge : L’âge moyen des utilisateurs est similaire dans tous les thèmes, avec le thème clair à environ 41,73 ans et le thème sombre à 41,33 ans.\n",
    "\n",
    "Durée de la session : La durée moyenne de la session est légèrement plus longue pour les utilisateurs du thème clair (930,83 secondes) que pour ceux du thème sombre (919,48 secondes).\n",
    "D’après ces informations, il apparaît que le thème clair surpasse légèrement le thème sombre en termes de taux de conversion, de taux de rebond, de profondeur de défilement et de durée de session, tandis que le thème sombre est en tête du taux de clics. Cependant, les différences sont relativement mineures dans tous les indicateurs."
   ]
  },
  {
   "cell_type": "markdown",
   "id": "b2b43315",
   "metadata": {},
   "source": [
    "# Démarrer avec les tests d’hypothèses"
   ]
  },
  {
   "cell_type": "markdown",
   "id": "623d787b",
   "metadata": {},
   "source": [
    "Nous utiliserons un niveau de signification (alpha) de 0,05 pour notre test d’hypothèse. Cela signifie que nous considérerons un résultat comme statistiquement significatif si la valeur p de notre test est inférieure à 0,05.\n",
    "\n",
    "Commençons par des tests d’hypothèses basés sur le taux de conversion entre le thème clair et le thème sombre. Nos hypothèses sont les suivantes :\n",
    "\n",
    "Hypothèse nulle (H0) : Il n’y a pas de différence de taux de conversion entre le thème clair et le thème sombre.\n",
    "Hypothèse alternative (Ha) : Il existe une différence de taux de conversion entre le thème clair et le thème sombre.\n",
    "\n",
    "Nous utiliserons un test t à deux échantillons pour comparer les moyennes des deux échantillons indépendants. Poursuivons le test :"
   ]
  },
  {
   "cell_type": "code",
   "execution_count": 5,
   "id": "8e622568",
   "metadata": {},
   "outputs": [
    {
     "data": {
      "text/plain": [
       "(0.4748494462782632, 0.6349982678451778)"
      ]
     },
     "execution_count": 5,
     "metadata": {},
     "output_type": "execute_result"
    }
   ],
   "source": [
    "# extracting conversion rates for both themes\n",
    "conversion_rates_light = df[df['Theme'] == 'Light Theme']['Conversion Rate']\n",
    "conversion_rates_dark = df[df['Theme'] == 'Dark Theme']['Conversion Rate']\n",
    "\n",
    "# performing a two-sample t-test\n",
    "t_stat, p_value = ttest_ind(conversion_rates_light, conversion_rates_dark, equal_var=False)\n",
    "\n",
    "t_stat, p_value"
   ]
  },
  {
   "cell_type": "markdown",
   "id": "2f1789e2",
   "metadata": {},
   "source": [
    "Le résultat du test t à deux échantillons donne une valeur p d’environ 0,635. Comme cette valeur p est beaucoup plus grande que notre niveau de signification de 0,05, nous n’avons pas suffisamment de preuves pour rejeter l’hypothèse nulle. Par conséquent, nous concluons qu’il n’y a pas de différence statistiquement significative dans les taux de conversion entre le thème clair et le thème sombre sur la base des données fournies.\n",
    "\n",
    "\n",
    "\n",
    "Maintenant, effectuons des tests d’hypothèse basés sur le taux de clics (CTR) pour voir s’il existe une différence statistiquement significative entre le thème clair et le thème sombre en ce qui concerne la fréquence à laquelle les utilisateurs cliquent. Nos hypothèses restent structurées de manière similaire :\n",
    "\n",
    "Hypothèse nulle (H0) : Il n’y a pas de différence dans les taux de clics entre le thème clair et le thème sombre.\n",
    "Hypothèse alternative (Ha) : Il existe une différence dans les taux de clics entre le thème clair et le thème sombre.\n",
    "Nous effectuerons un test t à deux échantillons sur le CTR pour les deux thèmes. Poursuivons le calcul :"
   ]
  },
  {
   "cell_type": "code",
   "execution_count": 6,
   "id": "9d449bcb",
   "metadata": {},
   "outputs": [
    {
     "data": {
      "text/plain": [
       "(-1.9781708664172253, 0.04818435371010704)"
      ]
     },
     "execution_count": 6,
     "metadata": {},
     "output_type": "execute_result"
    }
   ],
   "source": [
    "# extracting click through rates for both themes\n",
    "ctr_light = df[df['Theme'] == 'Light Theme']['Click Through Rate']\n",
    "ctr_dark = df[df['Theme'] == 'Dark Theme']['Click Through Rate']\n",
    "\n",
    "# performing a two-sample t-test\n",
    "t_stat_ctr, p_value_ctr = ttest_ind(ctr_light, ctr_dark, equal_var=False)\n",
    "\n",
    "t_stat_ctr, p_value_ctr"
   ]
  },
  {
   "cell_type": "markdown",
   "id": "8a6df3c2",
   "metadata": {},
   "source": [
    "Le test t à deux échantillons pour le taux de clics (CTR) entre le thème clair et le thème sombre donne une valeur p d’environ 0,048. Cette valeur p est légèrement inférieure à notre niveau de signification de 0,05, ce qui indique qu’il existe une différence statistiquement significative dans les taux de clics entre le thème clair et le thème sombre, le thème sombre ayant probablement un CTR plus élevé compte tenu de la direction de la statistique de test."
   ]
  },
  {
   "cell_type": "markdown",
   "id": "f04b3bc3",
   "metadata": {},
   "source": [
    "Maintenant, effectuons des tests d’hypothèse basés sur deux autres métriques : le taux de rebond et la profondeur de défilement, qui sont des métriques importantes pour analyser les performances d’un thème ou d’un design sur un site web. Je vais d’abord effectuer ces tests statistiques, puis créer un tableau pour afficher le rapport de tous les tests que nous avons effectués :"
   ]
  },
  {
   "cell_type": "code",
   "execution_count": 7,
   "id": "7a44ca29",
   "metadata": {},
   "outputs": [
    {
     "data": {
      "text/html": [
       "<div>\n",
       "<style scoped>\n",
       "    .dataframe tbody tr th:only-of-type {\n",
       "        vertical-align: middle;\n",
       "    }\n",
       "\n",
       "    .dataframe tbody tr th {\n",
       "        vertical-align: top;\n",
       "    }\n",
       "\n",
       "    .dataframe thead th {\n",
       "        text-align: right;\n",
       "    }\n",
       "</style>\n",
       "<table border=\"1\" class=\"dataframe\">\n",
       "  <thead>\n",
       "    <tr style=\"text-align: right;\">\n",
       "      <th></th>\n",
       "      <th>Metric</th>\n",
       "      <th>T-Statistic</th>\n",
       "      <th>P-Value</th>\n",
       "    </tr>\n",
       "  </thead>\n",
       "  <tbody>\n",
       "    <tr>\n",
       "      <th>0</th>\n",
       "      <td>Click Through Rate</td>\n",
       "      <td>-1.978171</td>\n",
       "      <td>0.048184</td>\n",
       "    </tr>\n",
       "    <tr>\n",
       "      <th>1</th>\n",
       "      <td>Conversion Rate</td>\n",
       "      <td>0.474849</td>\n",
       "      <td>0.634998</td>\n",
       "    </tr>\n",
       "    <tr>\n",
       "      <th>2</th>\n",
       "      <td>Bounce Rate</td>\n",
       "      <td>-1.201888</td>\n",
       "      <td>0.229692</td>\n",
       "    </tr>\n",
       "    <tr>\n",
       "      <th>3</th>\n",
       "      <td>Scroll Depth</td>\n",
       "      <td>0.756228</td>\n",
       "      <td>0.449692</td>\n",
       "    </tr>\n",
       "  </tbody>\n",
       "</table>\n",
       "</div>"
      ],
      "text/plain": [
       "               Metric  T-Statistic   P-Value\n",
       "0  Click Through Rate    -1.978171  0.048184\n",
       "1     Conversion Rate     0.474849  0.634998\n",
       "2         Bounce Rate    -1.201888  0.229692\n",
       "3        Scroll Depth     0.756228  0.449692"
      ]
     },
     "execution_count": 7,
     "metadata": {},
     "output_type": "execute_result"
    }
   ],
   "source": [
    "# extracting bounce rates for both themes\n",
    "bounce_rates_light = df[df['Theme'] == 'Light Theme']['Bounce Rate']\n",
    "bounce_rates_dark = df[df['Theme'] == 'Dark Theme']['Bounce Rate']\n",
    "\n",
    "# performing a two-sample t-test for bounce rate\n",
    "t_stat_bounce, p_value_bounce = ttest_ind(bounce_rates_light, bounce_rates_dark, equal_var=False)\n",
    "\n",
    "# extracting scroll depths for both themes\n",
    "scroll_depth_light = df[df['Theme'] == 'Light Theme']['Scroll_Depth']\n",
    "scroll_depth_dark = df[df['Theme'] == 'Dark Theme']['Scroll_Depth']\n",
    "\n",
    "# performing a two-sample t-test for scroll depth\n",
    "t_stat_scroll, p_value_scroll = ttest_ind(scroll_depth_light, scroll_depth_dark, equal_var=False)\n",
    "\n",
    "# creating a table for comparison\n",
    "comparison_table = pd.DataFrame({\n",
    "    'Metric': ['Click Through Rate', 'Conversion Rate', 'Bounce Rate', 'Scroll Depth'],\n",
    "    'T-Statistic': [t_stat_ctr, t_stat, t_stat_bounce, t_stat_scroll],\n",
    "    'P-Value': [p_value_ctr, p_value, p_value_bounce, p_value_scroll]\n",
    "})\n",
    "\n",
    "comparison_table"
   ]
  },
  {
   "cell_type": "markdown",
   "id": "fba5f28b",
   "metadata": {},
   "source": [
    "Voici donc un tableau comparant les performances du thème clair et du thème sombre sur différentes mesures basées sur des tests d’hypothèse :"
   ]
  },
  {
   "cell_type": "markdown",
   "id": "c377883a",
   "metadata": {},
   "source": [
    "Taux de clics : Le test révèle une différence statistiquement significative, le thème sombre étant probablement plus performant (valeur P = 0,048).\n",
    "Taux de conversion : Aucune différence statistiquement significative n’a été trouvée (valeur p = 0,635).\n",
    "Taux de rebond : Il n’y a pas de différence statistiquement significative dans les taux de rebond entre les thèmes (valeur P = 0,230).\n",
    "Profondeur de défilement : De même, aucune différence statistiquement significative n’est observée dans les profondeurs de défilement (valeur p = 0,450).\n",
    "\n",
    "\n",
    "En résumé, alors que les deux thèmes fonctionnent de manière similaire dans la plupart des mesures, le thème sombre a un léger avantage en termes d’engagement des utilisateurs à cliquer. Pour d’autres indicateurs de performance clés tels que le taux de conversion, le taux de rebond et la profondeur de défilement, le choix entre un thème clair et un thème sombre n’affecte pas de manière significative le comportement des utilisateurs selon les données fournies."
   ]
  },
  {
   "cell_type": "markdown",
   "id": "c9f139f8",
   "metadata": {},
   "source": [
    "Résumé\n",
    "Ainsi, le test d’hypothèse est une méthode statistique utilisée pour faire des inférences ou prendre des décisions sur une population en fonction de données d’échantillonnage. Cela commence par une hypothèse nulle (H0), qui représente une position par défaut ou aucun effet, et une hypothèse alternative (H1 ou Ha), qui représente ce que nous cherchons à prouver ou à nous attendre à trouver. Le processus consiste à utiliser des données d’échantillon pour déterminer s’il faut rejeter l’hypothèse nulle en faveur de l’hypothèse alternative, en fonction de la probabilité d’observer les données d’échantillon sous l’hypothèse nulle."
   ]
  },
  {
   "cell_type": "code",
   "execution_count": null,
   "id": "f12dedf9",
   "metadata": {},
   "outputs": [],
   "source": []
  }
 ],
 "metadata": {
  "kernelspec": {
   "display_name": "Python 3 (ipykernel)",
   "language": "python",
   "name": "python3"
  },
  "language_info": {
   "codemirror_mode": {
    "name": "ipython",
    "version": 3
   },
   "file_extension": ".py",
   "mimetype": "text/x-python",
   "name": "python",
   "nbconvert_exporter": "python",
   "pygments_lexer": "ipython3",
   "version": "3.9.12"
  }
 },
 "nbformat": 4,
 "nbformat_minor": 5
}
